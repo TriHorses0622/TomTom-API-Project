{
 "cells": [
  {
   "cell_type": "code",
   "execution_count": 5,
   "metadata": {},
   "outputs": [],
   "source": [
    "# Dependencies\n",
    "import requests\n",
    "import pymongo\n",
    "import datetime\n",
    "import time"
   ]
  },
  {
   "cell_type": "code",
   "execution_count": 6,
   "metadata": {},
   "outputs": [],
   "source": [
    "# Functionize the process\n",
    "def make_request(URL):\n",
    "    r = requests.get(URL)\n",
    "    json_file = r.json()\n",
    "    return json_file\n",
    "def access_db(dbname,collectionname):\n",
    "    conn = 'mongodb://localhost:27017'\n",
    "    client = pymongo.MongoClient(conn)\n",
    "    db = client[dbname]\n",
    "    collection = db[collectionname]\n",
    "    return db, collection\n",
    "def insert(dbname,collectionname,json_file):\n",
    "    db, collection = access_db(dbname, collectionname)\n",
    "    json_file['current_time'] = datetime.datetime.now()\n",
    "    collection.insert_one(json_file)\n",
    "def main(dbname,collectionname,Coordinate):\n",
    "    KEY = \"cWhH2kYLPJdGA3CAhSnTSaa3UG5Vn40N\"\n",
    "    URL = \"https://api.tomtom.com/traffic/services/4/flowSegmentData/absolute/10/json?key=\"+KEY+\"&point=\"+Coordinate\n",
    "    json_file = make_request(URL)\n",
    "    insert(dbname,collectionname,json_file)"
   ]
  },
  {
   "cell_type": "code",
   "execution_count": 8,
   "metadata": {},
   "outputs": [],
   "source": [
    "# Run the function once\n",
    "main('Project_2','Location_1',\"40.85359934589482,-73.96288271962996\")\n",
    "main('Project_2','Location_2',\"40.852530568306975,-73.95747123463714\")\n",
    "main('Project_2','Location_3',\"40.85071133276554,-73.94815145492394\")\n",
    "main('Project_2','Location_4',\"40.849415096821986,-73.94147729014443\")\n",
    "main('Project_2','Location_5',\"40.848278026999935,-73.93654682603476\")\n",
    "main('Project_2','Location_6',\"40.84755029207594,-73.9347730615113\")\n",
    "main('Project_2','Location_7',\"40.84570817732376,-73.9299027250125\")\n",
    "main('Project_2','Location_8',\"40.84504864221026,-73.91598318322012\")\n",
    "main('Project_2','Location_9',\"40.84507138482374,-73.91051157067255\")\n",
    "main('Project_2','Location_10',\"40.84482121474153,-73.90606212745408\")\n",
    "main('Project_2','Location_11',\"40.83968114755555,-73.88477695321326\")\n",
    "main('Project_2','Location_12',\"40.84438910055596,-73.90122185476277\")\n",
    "main('Project_2','Location_13',\"40.84372955234707,-73.89632145448613\")\n",
    "main('Project_2','Location_14',\"40.843320174335986,-73.89241315976572\")\n",
    "main('Project_2','Location_15',\"40.84131873432972,-73.88781339757365\")\n",
    "main('Project_2','Location_16',\"40.83756587139487,-73.88089872236874\")\n",
    "main('Project_2','Location_17',\"40.83624663275393,-73.87380366426274\")"
   ]
  },
  {
   "cell_type": "code",
   "execution_count": null,
   "metadata": {},
   "outputs": [],
   "source": [
    "# Repeat the function\n",
    "def repeating_function():\n",
    "    while True:\n",
    "        main()\n",
    "        time.sleep(10)\n",
    "    print(\"repeating function\")\n",
    "repeating_function()"
   ]
  },
  {
   "cell_type": "code",
   "execution_count": null,
   "metadata": {},
   "outputs": [],
   "source": []
  }
 ],
 "metadata": {
  "kernelspec": {
   "display_name": "Python 3",
   "language": "python",
   "name": "python3"
  },
  "language_info": {
   "codemirror_mode": {
    "name": "ipython",
    "version": 3
   },
   "file_extension": ".py",
   "mimetype": "text/x-python",
   "name": "python",
   "nbconvert_exporter": "python",
   "pygments_lexer": "ipython3",
   "version": "3.7.4"
  }
 },
 "nbformat": 4,
 "nbformat_minor": 2
}
