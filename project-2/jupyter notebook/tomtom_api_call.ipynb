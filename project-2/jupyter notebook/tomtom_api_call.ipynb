{
 "cells": [
  {
   "cell_type": "code",
   "execution_count": 2,
   "metadata": {},
   "outputs": [],
   "source": [
    "import requests\n",
    "import pymongo"
   ]
  },
  {
   "cell_type": "code",
   "execution_count": 3,
   "metadata": {},
   "outputs": [],
   "source": [
    "KEY = \"cWhH2kYLPJdGA3CAhSnTSaa3UG5Vn40N\"\n",
    "URL = \"https://api.tomtom.com/traffic/services/4/flowSegmentData/absolute/10/json?key=\"+KEY+\"&point=40.836436,-73.873732\" "
   ]
  },
  {
   "cell_type": "code",
   "execution_count": null,
   "metadata": {},
   "outputs": [],
   "source": [
    "for coord in json_file:\n",
    "    speed = response['flowSegmentData']['freeFlowSpeed']\n",
    "    coordinates = response['flowSegmentData']['coordinates']['coordinate'][0]\n",
    "    if speed < 20:\n",
    "        marker = L.marker(coordinates)\n",
    "        slow_list.append(marker)\n",
    "    else:\n",
    "        marker = L.marker(coordinates)\n",
    "        not_slow_list.append(marker)\n",
    "\n",
    "\n",
    "coordinates = response['flowSegmentData']['coordinates']['coordinate']\n",
    "coordinates.forEach(data, function(data) {\n",
    "    if \n",
    "}"
   ]
  },
  {
   "cell_type": "code",
   "execution_count": 4,
   "metadata": {},
   "outputs": [
    {
     "data": {
      "text/plain": [
       "{'flowSegmentData': {'frc': 'FRC0',\n",
       "  'currentSpeed': 65,\n",
       "  'freeFlowSpeed': 67,\n",
       "  'currentTravelTime': 34,\n",
       "  'freeFlowTravelTime': 33,\n",
       "  'confidence': 0.9800000190734863,\n",
       "  'roadClosure': False,\n",
       "  'coordinates': {'coordinate': [{'latitude': 40.83765500707818,\n",
       "     'longitude': -73.87248968710125},\n",
       "    {'latitude': 40.83767278993526, 'longitude': -73.87277450900429},\n",
       "    {'latitude': 40.837693923198685, 'longitude': -73.8731599867646},\n",
       "    {'latitude': 40.837708140483834, 'longitude': -73.87345126106135},\n",
       "    {'latitude': 40.83771699163314, 'longitude': -73.87361337756481},\n",
       "    {'latitude': 40.83771772593689, 'longitude': -73.87364928888412},\n",
       "    {'latitude': 40.837721397680426, 'longitude': -73.87370429157211},\n",
       "    {'latitude': 40.83772743533951, 'longitude': -73.87381920876862},\n",
       "    {'latitude': 40.837743577407046, 'longitude': -73.87413924889607},\n",
       "    {'latitude': 40.83774768084984, 'longitude': -73.87419619863869},\n",
       "    {'latitude': 40.83777286686906, 'longitude': -73.87470109687239},\n",
       "    {'latitude': 40.83782407816697, 'longitude': -73.87559698505501},\n",
       "    {'latitude': 40.83784232408488, 'longitude': -73.87591050395388},\n",
       "    {'latitude': 40.83786338648661, 'longitude': -73.87627726015843},\n",
       "    {'latitude': 40.837884061329696, 'longitude': -73.87649825505858},\n",
       "    {'latitude': 40.83789788974188, 'longitude': -73.8766650413013},\n",
       "    {'latitude': 40.837930191035326, 'longitude': -73.87693469274119},\n",
       "    {'latitude': 40.83794653253187, 'longitude': -73.87705997084336},\n",
       "    {'latitude': 40.83797701239047, 'longitude': -73.87726629078725},\n",
       "    {'latitude': 40.83800148289173, 'longitude': -73.87743016887117},\n",
       "    {'latitude': 40.83802790295246, 'longitude': -73.87757268528317},\n",
       "    {'latitude': 40.8380596321391, 'longitude': -73.87772611955533},\n",
       "    {'latitude': 40.83820699476253, 'longitude': -73.87836040256875},\n",
       "    {'latitude': 40.83827596968181, 'longitude': -73.87863179019722},\n",
       "    {'latitude': 40.83828651253247, 'longitude': -73.87866604775637},\n",
       "    {'latitude': 40.83837216303035, 'longitude': -73.87894907471687},\n",
       "    {'latitude': 40.83846206083452, 'longitude': -73.87922259625276},\n",
       "    {'latitude': 40.838501967524024, 'longitude': -73.87933214944104},\n",
       "    {'latitude': 40.83850489956299, 'longitude': -73.87934006193922},\n",
       "    {'latitude': 40.83851745539084, 'longitude': -73.87936880142162},\n",
       "    {'latitude': 40.838548479812054, 'longitude': -73.8794364637398},\n",
       "    {'latitude': 40.83862562947483, 'longitude': -73.87962681703516}]},\n",
       "  '@version': 'traffic-service 3.0.010'}}"
      ]
     },
     "execution_count": 4,
     "metadata": {},
     "output_type": "execute_result"
    }
   ],
   "source": [
    "r = requests.get(URL)\n",
    "r.json()"
   ]
  },
  {
   "cell_type": "code",
   "execution_count": 74,
   "metadata": {},
   "outputs": [
    {
     "data": {
      "text/plain": [
       "{'flowSegmentData': {'frc': 'FRC0',\n",
       "  'currentSpeed': 25,\n",
       "  'freeFlowSpeed': 65,\n",
       "  'currentTravelTime': 88,\n",
       "  'freeFlowTravelTime': 34,\n",
       "  'confidence': 0.9900000095367432,\n",
       "  'roadClosure': False,\n",
       "  'coordinates': {'coordinate': [{'latitude': 40.83765500707818,\n",
       "     'longitude': -73.87248968710125},\n",
       "    {'latitude': 40.83767278993526, 'longitude': -73.87277450900429},\n",
       "    {'latitude': 40.837693923198685, 'longitude': -73.8731599867646},\n",
       "    {'latitude': 40.837708140483834, 'longitude': -73.87345126106135},\n",
       "    {'latitude': 40.83771699163314, 'longitude': -73.87361337756481},\n",
       "    {'latitude': 40.83771772593689, 'longitude': -73.87364928888412},\n",
       "    {'latitude': 40.837721397680426, 'longitude': -73.87370429157211},\n",
       "    {'latitude': 40.83772743533951, 'longitude': -73.87381920876862},\n",
       "    {'latitude': 40.837743577407046, 'longitude': -73.87413924889607},\n",
       "    {'latitude': 40.83774768084984, 'longitude': -73.87419619863869},\n",
       "    {'latitude': 40.83777286686906, 'longitude': -73.87470109687239},\n",
       "    {'latitude': 40.83782407816697, 'longitude': -73.87559698505501},\n",
       "    {'latitude': 40.83784232408488, 'longitude': -73.87591050395388},\n",
       "    {'latitude': 40.83786338648661, 'longitude': -73.87627726015843},\n",
       "    {'latitude': 40.837884061329696, 'longitude': -73.87649825505858},\n",
       "    {'latitude': 40.83789788974188, 'longitude': -73.8766650413013},\n",
       "    {'latitude': 40.837930191035326, 'longitude': -73.87693469274119},\n",
       "    {'latitude': 40.83794653253187, 'longitude': -73.87705997084336},\n",
       "    {'latitude': 40.83797701239047, 'longitude': -73.87726629078725},\n",
       "    {'latitude': 40.83800148289173, 'longitude': -73.87743016887117},\n",
       "    {'latitude': 40.83802790295246, 'longitude': -73.87757268528317},\n",
       "    {'latitude': 40.8380596321391, 'longitude': -73.87772611955533},\n",
       "    {'latitude': 40.83820699476253, 'longitude': -73.87836040256875},\n",
       "    {'latitude': 40.83827596968181, 'longitude': -73.87863179019722},\n",
       "    {'latitude': 40.83828651253247, 'longitude': -73.87866604775637},\n",
       "    {'latitude': 40.83837216303035, 'longitude': -73.87894907471687},\n",
       "    {'latitude': 40.83846206083452, 'longitude': -73.87922259625276},\n",
       "    {'latitude': 40.838501967524024, 'longitude': -73.87933214944104},\n",
       "    {'latitude': 40.83850489956299, 'longitude': -73.87934006193922},\n",
       "    {'latitude': 40.83851745539084, 'longitude': -73.87936880142162},\n",
       "    {'latitude': 40.838548479812054, 'longitude': -73.8794364637398},\n",
       "    {'latitude': 40.83862562947483, 'longitude': -73.87962681703516}]},\n",
       "  '@version': 'traffic-service 3.0.010'}}"
      ]
     },
     "execution_count": 74,
     "metadata": {},
     "output_type": "execute_result"
    }
   ],
   "source": [
    "r = requests.get(URL)\n",
    "json_file = r.json()\n",
    "json_file"
   ]
  },
  {
   "cell_type": "code",
   "execution_count": 64,
   "metadata": {},
   "outputs": [],
   "source": [
    "x = json_file.get('flowSegmentData','').get('coordinates','').get('coordinate','')"
   ]
  },
  {
   "cell_type": "code",
   "execution_count": 65,
   "metadata": {},
   "outputs": [],
   "source": [
    "c_list = []\n",
    "for item in x:\n",
    "    c_list.append([(item['latitude']),(item['longitude'])])"
   ]
  },
  {
   "cell_type": "code",
   "execution_count": 66,
   "metadata": {},
   "outputs": [
    {
     "data": {
      "text/plain": [
       "[[40.83765500707818, -73.87248968710125],\n",
       " [40.83767278993526, -73.87277450900429],\n",
       " [40.837693923198685, -73.8731599867646],\n",
       " [40.837708140483834, -73.87345126106135],\n",
       " [40.83771699163314, -73.87361337756481],\n",
       " [40.83771772593689, -73.87364928888412],\n",
       " [40.837721397680426, -73.87370429157211],\n",
       " [40.83772743533951, -73.87381920876862],\n",
       " [40.837743577407046, -73.87413924889607],\n",
       " [40.83774768084984, -73.87419619863869],\n",
       " [40.83777286686906, -73.87470109687239],\n",
       " [40.83782407816697, -73.87559698505501],\n",
       " [40.83784232408488, -73.87591050395388],\n",
       " [40.83786338648661, -73.87627726015843],\n",
       " [40.837884061329696, -73.87649825505858],\n",
       " [40.83789788974188, -73.8766650413013],\n",
       " [40.837930191035326, -73.87693469274119],\n",
       " [40.83794653253187, -73.87705997084336],\n",
       " [40.83797701239047, -73.87726629078725],\n",
       " [40.83800148289173, -73.87743016887117],\n",
       " [40.83802790295246, -73.87757268528317],\n",
       " [40.8380596321391, -73.87772611955533],\n",
       " [40.83820699476253, -73.87836040256875],\n",
       " [40.83827596968181, -73.87863179019722],\n",
       " [40.83828651253247, -73.87866604775637],\n",
       " [40.83837216303035, -73.87894907471687],\n",
       " [40.83846206083452, -73.87922259625276],\n",
       " [40.838501967524024, -73.87933214944104],\n",
       " [40.83850489956299, -73.87934006193922],\n",
       " [40.83851745539084, -73.87936880142162],\n",
       " [40.838548479812054, -73.8794364637398],\n",
       " [40.83862562947483, -73.87962681703516]]"
      ]
     },
     "execution_count": 66,
     "metadata": {},
     "output_type": "execute_result"
    }
   ],
   "source": [
    "c_list"
   ]
  }
 ],
 "metadata": {
  "kernelspec": {
   "display_name": "Python 3",
   "language": "python",
   "name": "python3"
  },
  "language_info": {
   "codemirror_mode": {
    "name": "ipython",
    "version": 3
   },
   "file_extension": ".py",
   "mimetype": "text/x-python",
   "name": "python",
   "nbconvert_exporter": "python",
   "pygments_lexer": "ipython3",
   "version": "3.7.4"
  }
 },
 "nbformat": 4,
 "nbformat_minor": 2
}
